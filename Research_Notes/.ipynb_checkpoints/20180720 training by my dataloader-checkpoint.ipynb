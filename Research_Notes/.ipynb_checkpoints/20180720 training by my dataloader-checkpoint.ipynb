{
 "cells": [
  {
   "cell_type": "markdown",
   "metadata": {},
   "source": [
    "# Training by my dataloader"
   ]
  },
  {
   "cell_type": "code",
   "execution_count": 3,
   "metadata": {},
   "outputs": [],
   "source": [
    "import sys\n",
    "sys.path.insert(0, '../')\n",
    "sys.path.insert(0, '../dataloaders')\n",
    "\n",
    "import numpy as np\n",
    "import torch\n",
    "from torch.autograd import Variable\n",
    "from FuseNet import FuseNet, CrossEntropy2d\n",
    "from Solver_FuseNet import Solver_SS\n",
    "import torch.nn.functional as F\n",
    "from utils.data_utils_class import get_data\n",
    "\n",
    "import time\n",
    "\n",
    "import h5py\n",
    "import scipy.io \n",
    "import os\n",
    "\n",
    "from NYUDv2Loader import *"
   ]
  },
  {
   "cell_type": "code",
   "execution_count": null,
   "metadata": {},
   "outputs": [],
   "source": [
    "gpu_device = 1\n",
    "torch.cuda.set_device(gpu_device)"
   ]
  },
  {
   "cell_type": "code",
   "execution_count": 4,
   "metadata": {},
   "outputs": [],
   "source": [
    "############################################################################\n",
    "#                                TRAIN                                     #\n",
    "############################################################################\n",
    "\n",
    "resume = False\n",
    "dset_type = 'NYU'\n",
    "t_loader = NYUDv2Loader('/home/dongwonshin/Desktop/Datasets/NYUDv2/', split='training')\n",
    "v_loader = NYUDv2Loader('/home/dongwonshin/Desktop/Datasets/NYUDv2/', split='val')\n",
    "\n",
    "train_loader = data.DataLoader(t_loader, batch_size=4, num_workers=16, shuffle=True)\n",
    "val_loader = data.DataLoader(v_loader, batch_size=4, num_workers=16)"
   ]
  },
  {
   "cell_type": "code",
   "execution_count": null,
   "metadata": {},
   "outputs": [],
   "source": [
    "print (\"[PROGRESS] %s dataset retrieved\"  %(dset_type))\n",
    "\n",
    "model = FuseNet(14).cuda()\n",
    "\n",
    "solver = Solver_SS(optim_args={\"lr\":5e-3, \"weight_decay\": 0.0005}, loss_func=CrossEntropy2d)\n",
    "solver.train(model, 0.0004, dset_type, train_loader, val_loader, resume, log_nth=5, num_epochs=300)"
   ]
  }
 ],
 "metadata": {
  "kernelspec": {
   "display_name": "Python [conda env:fusenet]",
   "language": "python",
   "name": "conda-env-fusenet-py"
  },
  "language_info": {
   "codemirror_mode": {
    "name": "ipython",
    "version": 2
   },
   "file_extension": ".py",
   "mimetype": "text/x-python",
   "name": "python",
   "nbconvert_exporter": "python",
   "pygments_lexer": "ipython2",
   "version": "2.7.15"
  }
 },
 "nbformat": 4,
 "nbformat_minor": 2
}
