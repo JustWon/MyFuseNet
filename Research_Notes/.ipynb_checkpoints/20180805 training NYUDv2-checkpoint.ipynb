{
 "cells": [
  {
   "cell_type": "markdown",
   "metadata": {},
   "source": [
    "# NYUDv2 training"
   ]
  },
  {
   "cell_type": "code",
   "execution_count": 1,
   "metadata": {},
   "outputs": [],
   "source": [
    "import sys\n",
    "sys.path.insert(0, '../')\n",
    "sys.path.insert(0, '../dataloaders')\n",
    "\n",
    "import numpy as np\n",
    "import torch\n",
    "from torch.autograd import Variable\n",
    "from FuseNet import FuseNet, CrossEntropy2d\n",
    "from Solver_FuseNet import Solver_SS\n",
    "import torch.nn.functional as F\n",
    "from utils.data_utils_class import get_data\n",
    "\n",
    "import time\n",
    "\n",
    "import h5py\n",
    "import scipy.io \n",
    "import os\n",
    "\n",
    "from NYUDv2Loader import *"
   ]
  },
  {
   "cell_type": "code",
   "execution_count": 2,
   "metadata": {},
   "outputs": [],
   "source": [
    "############################################################################\n",
    "#                                TRAIN                                     #\n",
    "############################################################################\n",
    "\n",
    "resume = False\n",
    "gpu_device = 1\n",
    "dset_type = 'NYU'\n",
    "num_classes = 13\n",
    "t_loader = NYUDv2Loader(gpu_device, '/home/dongwonshin/Desktop/Datasets/NYUDv2/', split='training', \n",
    "                        is_transform=True, img_norm=True, img_size=(240,320))\n",
    "v_loader = NYUDv2Loader(gpu_device, '/home/dongwonshin/Desktop/Datasets/NYUDv2/', split='val', \n",
    "                        is_transform=True, img_norm=True, img_size=(240,320))\n",
    "\n",
    "train_loader = data.DataLoader(t_loader, batch_size=4, num_workers=16, shuffle=True)\n",
    "val_loader = data.DataLoader(v_loader, batch_size=4, num_workers=16)"
   ]
  },
  {
   "cell_type": "code",
   "execution_count": null,
   "metadata": {},
   "outputs": [
    {
     "name": "stdout",
     "output_type": "stream",
     "text": [
      "[PROGRESS] NYU dataset retrieved\n",
      "164\n",
      "[PROGRESS] Selected Training Mode: NEW\n",
      "[PROGRESS] TRAINING STARTS\n"
     ]
    },
    {
     "name": "stderr",
     "output_type": "stream",
     "text": [
      "../Solver_FuseNet.py:147: UserWarning: invalid index of a 0-dim tensor. This will be an error in PyTorch 0.5. Use tensor.item() to convert a 0-dim tensor to a Python number\n",
      "  self.running_loss += loss.data[0]\n",
      "../Solver_FuseNet.py:148: UserWarning: invalid index of a 0-dim tensor. This will be an error in PyTorch 0.5. Use tensor.item() to convert a 0-dim tensor to a Python number\n",
      "  running_loss += loss.data[0]\n"
     ]
    },
    {
     "name": "stdout",
     "output_type": "stream",
     "text": [
      "[EPOCH: 1/300 Iter: 199/199 ] Loss: 2.206 Best Acc: 0.000 LR: 5.00e-03 Time: 0.20 seconds [EPOCH: 1/300] TRAIN Acc/Loss: 0.347/2.100 VALIDATION Acc: 0.280 \n",
      "[PROGRESS] Model successfully updated\n",
      "[PROGRESS] Checkpoint saved\n",
      "[EPOCH: 2/300 Iter: 199/199 ] Loss: 1.766 Best Acc: 0.280 LR: 5.00e-03 Time: 0.20 seconds [EPOCH: 2/300] TRAIN Acc/Loss: 0.507/1.821 VALIDATION Acc: 0.415 \n",
      "[PROGRESS] Model successfully updated\n",
      "[PROGRESS] Checkpoint saved\n",
      "[EPOCH: 3/300 Iter: 199/199 ] Loss: 1.587 Best Acc: 0.415 LR: 5.00e-03 Time: 0.20 seconds [EPOCH: 3/300] TRAIN Acc/Loss: 0.490/1.594 VALIDATION Acc: 0.426 \n",
      "[PROGRESS] Model successfully updated\n",
      "[PROGRESS] Checkpoint saved\n",
      "[EPOCH: 4/300 Iter: 199/199 ] Loss: 1.514 Best Acc: 0.426 LR: 5.00e-03 Time: 0.20 seconds [EPOCH: 4/300] TRAIN Acc/Loss: 0.567/1.518 VALIDATION Acc: 0.448 \n",
      "[PROGRESS] Model successfully updated\n",
      "[PROGRESS] Checkpoint saved\n",
      "[EPOCH: 5/300 Iter: 199/199 ] Loss: 1.460 Best Acc: 0.448 LR: 5.00e-03 Time: 0.20 seconds [EPOCH: 5/300] TRAIN Acc/Loss: 0.435/1.460 VALIDATION Acc: 0.393 \n",
      "[EPOCH: 6/300 Iter: 199/199 ] Loss: 1.552 Best Acc: 0.448 LR: 5.00e-03 Time: 0.20 seconds [EPOCH: 6/300] TRAIN Acc/Loss: 0.453/1.419 VALIDATION Acc: 0.498 \n",
      "[PROGRESS] Model successfully updated\n",
      "[PROGRESS] Checkpoint saved\n",
      "[EPOCH: 7/300 Iter: 199/199 ] Loss: 1.445 Best Acc: 0.498 LR: 5.00e-03 Time: 0.20 seconds [EPOCH: 7/300] TRAIN Acc/Loss: 0.569/1.386 VALIDATION Acc: 0.468 \n",
      "[EPOCH: 8/300 Iter: 199/199 ] Loss: 1.445 Best Acc: 0.498 LR: 5.00e-03 Time: 0.20 seconds [EPOCH: 8/300] TRAIN Acc/Loss: 0.473/1.348 VALIDATION Acc: 0.449 \n",
      "[EPOCH: 9/300 Iter: 199/199 ] Loss: 1.343 Best Acc: 0.498 LR: 5.00e-03 Time: 0.20 seconds [EPOCH: 9/300] TRAIN Acc/Loss: 0.612/1.316 VALIDATION Acc: 0.455 \n",
      "[EPOCH: 10/300 Iter: 199/199 ] Loss: 1.323 Best Acc: 0.498 LR: 5.00e-03 Time: 0.20 seconds [EPOCH: 10/300] TRAIN Acc/Loss: 0.588/1.298 VALIDATION Acc: 0.426 \n",
      "[EPOCH: 11/300 Iter: 199/199 ] Loss: 1.400 Best Acc: 0.498 LR: 5.00e-03 Time: 0.20 seconds [EPOCH: 11/300] TRAIN Acc/Loss: 0.471/1.271 VALIDATION Acc: 0.401 \n",
      "[EPOCH: 12/300 Iter: 199/199 ] Loss: 1.345 Best Acc: 0.498 LR: 5.00e-03 Time: 0.20 seconds [EPOCH: 12/300] TRAIN Acc/Loss: 0.542/1.246 VALIDATION Acc: 0.292 \n",
      "[EPOCH: 13/300 Iter: 95/199 ] Loss: 1.604 Best Acc: 0.498 LR: 5.00e-03 Time: 0.23 seconds"
     ]
    }
   ],
   "source": [
    "print (\"[PROGRESS] %s dataset retrieved\"  %(dset_type))\n",
    "\n",
    "model = FuseNet(gpu_device, num_classes).cuda()\n",
    "\n",
    "solver = Solver_SS(gpu_device, optim_args={\"lr\":5e-3, \"weight_decay\": 0.0005}, loss_func=CrossEntropy2d)\n",
    "solver.train(model, dset_type, train_loader, val_loader, resume, log_nth=5, num_epochs=300)"
   ]
  },
  {
   "cell_type": "code",
   "execution_count": null,
   "metadata": {},
   "outputs": [],
   "source": []
  }
 ],
 "metadata": {
  "kernelspec": {
   "display_name": "Python [conda env:fusenet]",
   "language": "python",
   "name": "conda-env-fusenet-py"
  },
  "language_info": {
   "codemirror_mode": {
    "name": "ipython",
    "version": 2
   },
   "file_extension": ".py",
   "mimetype": "text/x-python",
   "name": "python",
   "nbconvert_exporter": "python",
   "pygments_lexer": "ipython2",
   "version": "2.7.15"
  }
 },
 "nbformat": 4,
 "nbformat_minor": 2
}
