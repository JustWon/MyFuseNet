{
 "cells": [
  {
   "cell_type": "markdown",
   "metadata": {},
   "source": [
    "# SUNRGBD training"
   ]
  },
  {
   "cell_type": "code",
   "execution_count": 1,
   "metadata": {},
   "outputs": [],
   "source": [
    "import sys\n",
    "sys.path.insert(0, '../')\n",
    "sys.path.insert(0, '../dataloaders')\n",
    "\n",
    "import numpy as np\n",
    "import torch\n",
    "from torch.autograd import Variable\n",
    "from FuseNet import FuseNet, CrossEntropy2d\n",
    "from Solver_FuseNet import Solver_SS\n",
    "import torch.nn.functional as F\n",
    "from utils.data_utils_class import get_data\n",
    "\n",
    "import time\n",
    "\n",
    "import h5py\n",
    "import scipy.io \n",
    "import os\n",
    "\n",
    "from SUNRGBDLoader import *\n",
    "\n",
    "%load_ext autoreload\n",
    "%autoreload 2"
   ]
  },
  {
   "cell_type": "code",
   "execution_count": 2,
   "metadata": {},
   "outputs": [],
   "source": [
    "############################################################################\n",
    "#                                TRAIN                                     #\n",
    "############################################################################\n",
    "\n",
    "resume = False\n",
    "gpu_device = 0\n",
    "dset_type = 'SUN'\n",
    "num_classes = 40\n",
    "t_loader = SUNRGBDLoader(gpu_device, '/home/dongwonshin/Desktop/Datasets/SUNRGBD/SUNRGBD/', split='training', \n",
    "                        is_transform=True, img_norm=True, img_size=(240,320))\n",
    "v_loader = SUNRGBDLoader(gpu_device, '/home/dongwonshin/Desktop/Datasets/SUNRGBD/SUNRGBD/', split='val', \n",
    "                        is_transform=True, img_norm=True, img_size=(240,320))\n",
    "\n",
    "train_loader = data.DataLoader(t_loader, batch_size=1, num_workers=16, shuffle=True)\n",
    "val_loader = data.DataLoader(v_loader, batch_size=1, num_workers=16)"
   ]
  },
  {
   "cell_type": "code",
   "execution_count": null,
   "metadata": {},
   "outputs": [
    {
     "name": "stdout",
     "output_type": "stream",
     "text": [
      "[PROGRESS] SUN dataset retrieved\n",
      "5049\n",
      "[PROGRESS] Selected Training Mode: NEW\n",
      "[PROGRESS] TRAINING STARTS\n",
      "[EPOCH: 1/300 Iter: 5285/5285 ] Loss: 2.150 Best Acc: 0.000 LR: 5.00e-03 Time: 0.09 seconds [EPOCH: 1/300] TRAIN Acc/Loss: 0.645/2.028 VALIDATION Acc: 0.462 \n",
      "[PROGRESS] Model successfully updated\n",
      "[PROGRESS] Checkpoint saved\n",
      "[EPOCH: 2/300 Iter: 5285/5285 ] Loss: 1.910 Best Acc: 0.462 LR: 5.00e-03 Time: 0.09 seconds [EPOCH: 2/300] TRAIN Acc/Loss: 0.546/1.814 VALIDATION Acc: 0.492 \n",
      "[PROGRESS] Model successfully updated\n",
      "[PROGRESS] Checkpoint saved\n",
      "[EPOCH: 3/300 Iter: 5285/5285 ] Loss: 2.370 Best Acc: 0.492 LR: 5.00e-03 Time: 0.09 seconds [EPOCH: 3/300] TRAIN Acc/Loss: 0.432/1.733 VALIDATION Acc: 0.474 \n",
      "[EPOCH: 4/300 Iter: 5285/5285 ] Loss: 2.588 Best Acc: 0.492 LR: 5.00e-03 Time: 0.09 seconds [EPOCH: 4/300] TRAIN Acc/Loss: 0.470/1.681 VALIDATION Acc: 0.496 \n",
      "[PROGRESS] Model successfully updated\n",
      "[PROGRESS] Checkpoint saved\n",
      "[EPOCH: 5/300 Iter: 5285/5285 ] Loss: 1.798 Best Acc: 0.496 LR: 5.00e-03 Time: 0.09 seconds [EPOCH: 5/300] TRAIN Acc/Loss: 0.507/1.642 VALIDATION Acc: 0.524 \n",
      "[PROGRESS] Model successfully updated\n",
      "[PROGRESS] Checkpoint saved\n",
      "[EPOCH: 6/300 Iter: 5285/5285 ] Loss: 1.435 Best Acc: 0.524 LR: 5.00e-03 Time: 0.09 seconds [EPOCH: 6/300] TRAIN Acc/Loss: 0.602/1.602 VALIDATION Acc: 0.526 \n",
      "[PROGRESS] Model successfully updated\n",
      "[PROGRESS] Checkpoint saved\n",
      "[EPOCH: 7/300 Iter: 5285/5285 ] Loss: 2.149 Best Acc: 0.526 LR: 5.00e-03 Time: 0.09 seconds [EPOCH: 7/300] TRAIN Acc/Loss: 0.458/1.570 VALIDATION Acc: 0.485 \n",
      "[EPOCH: 8/300 Iter: 5285/5285 ] Loss: 2.909 Best Acc: 0.526 LR: 5.00e-03 Time: 0.09 seconds [EPOCH: 8/300] TRAIN Acc/Loss: 0.232/1.548 VALIDATION Acc: 0.469 \n",
      "[EPOCH: 9/300 Iter: 5285/5285 ] Loss: 2.198 Best Acc: 0.526 LR: 5.00e-03 Time: 0.09 seconds [EPOCH: 9/300] TRAIN Acc/Loss: 0.337/1.529 VALIDATION Acc: 0.514 \n",
      "[EPOCH: 10/300 Iter: 5285/5285 ] Loss: 1.706 Best Acc: 0.526 LR: 5.00e-03 Time: 0.09 seconds [EPOCH: 10/300] TRAIN Acc/Loss: 0.475/1.506 VALIDATION Acc: 0.548 \n",
      "[PROGRESS] Model successfully updated\n",
      "[PROGRESS] Checkpoint saved\n",
      "[EPOCH: 11/300 Iter: 3670/5285 ] Loss: 1.556 Best Acc: 0.548 LR: 5.00e-03 Time: 0.08 seconds"
     ]
    }
   ],
   "source": [
    "print (\"[PROGRESS] %s dataset retrieved\"  %(dset_type))\n",
    "\n",
    "model = FuseNet(gpu_device, num_classes).cuda()\n",
    "\n",
    "solver = Solver_SS(gpu_device, optim_args={\"lr\":5e-3, \"weight_decay\": 0.0005}, loss_func=CrossEntropy2d)\n",
    "solver.train(model, dset_type, train_loader, val_loader, resume, log_nth=5, num_epochs=300)"
   ]
  },
  {
   "cell_type": "code",
   "execution_count": null,
   "metadata": {},
   "outputs": [],
   "source": []
  },
  {
   "cell_type": "code",
   "execution_count": null,
   "metadata": {},
   "outputs": [],
   "source": []
  }
 ],
 "metadata": {
  "kernelspec": {
   "display_name": "Python [conda env:fusenet]",
   "language": "python",
   "name": "conda-env-fusenet-py"
  },
  "language_info": {
   "codemirror_mode": {
    "name": "ipython",
    "version": 2
   },
   "file_extension": ".py",
   "mimetype": "text/x-python",
   "name": "python",
   "nbconvert_exporter": "python",
   "pygments_lexer": "ipython2",
   "version": "2.7.15"
  }
 },
 "nbformat": 4,
 "nbformat_minor": 2
}
