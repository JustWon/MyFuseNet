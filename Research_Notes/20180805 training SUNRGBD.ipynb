{
 "cells": [
  {
   "cell_type": "markdown",
   "metadata": {},
   "source": [
    "# SUNRGBD training"
   ]
  },
  {
   "cell_type": "code",
   "execution_count": 1,
   "metadata": {},
   "outputs": [],
   "source": [
    "import sys\n",
    "sys.path.insert(0, '../')\n",
    "sys.path.insert(0, '../dataloaders')\n",
    "\n",
    "import numpy as np\n",
    "import torch\n",
    "from torch.autograd import Variable\n",
    "from FuseNet import FuseNet, CrossEntropy2d\n",
    "from Solver_FuseNet import Solver_SS\n",
    "import torch.nn.functional as F\n",
    "from utils.data_utils_class import get_data\n",
    "\n",
    "import time\n",
    "\n",
    "import h5py\n",
    "import scipy.io \n",
    "import os\n",
    "\n",
    "from SUNRGBDLoader import *\n",
    "\n",
    "%load_ext autoreload\n",
    "%autoreload 2"
   ]
  },
  {
   "cell_type": "code",
   "execution_count": 2,
   "metadata": {},
   "outputs": [],
   "source": [
    "############################################################################\n",
    "#                                TRAIN                                     #\n",
    "############################################################################\n",
    "\n",
    "resume = False\n",
    "gpu_device = 0\n",
    "dset_type = 'SUN'\n",
    "num_classes = 38\n",
    "t_loader = SUNRGBDLoader(gpu_device, '/home/dongwonshin/Desktop/Datasets/SUNRGBD/SUNRGBD/', split='training', \n",
    "                        is_transform=True, img_norm=True, img_size=(240,320))\n",
    "v_loader = SUNRGBDLoader(gpu_device, '/home/dongwonshin/Desktop/Datasets/SUNRGBD/SUNRGBD/', split='val', \n",
    "                        is_transform=True, img_norm=True, img_size=(240,320))\n",
    "\n",
    "train_loader = data.DataLoader(t_loader, batch_size=1, num_workers=16, shuffle=True)\n",
    "val_loader = data.DataLoader(v_loader, batch_size=1, num_workers=16)"
   ]
  },
  {
   "cell_type": "code",
   "execution_count": null,
   "metadata": {},
   "outputs": [
    {
     "name": "stdout",
     "output_type": "stream",
     "text": [
      "[PROGRESS] SUN dataset retrieved\n",
      "5049\n",
      "[PROGRESS] Selected Training Mode: NEW\n",
      "[PROGRESS] TRAINING STARTS\n"
     ]
    },
    {
     "name": "stderr",
     "output_type": "stream",
     "text": [
      "../Solver_FuseNet.py:147: UserWarning: invalid index of a 0-dim tensor. This will be an error in PyTorch 0.5. Use tensor.item() to convert a 0-dim tensor to a Python number\n",
      "  self.running_loss += loss.data[0]\n",
      "../Solver_FuseNet.py:148: UserWarning: invalid index of a 0-dim tensor. This will be an error in PyTorch 0.5. Use tensor.item() to convert a 0-dim tensor to a Python number\n",
      "  running_loss += loss.data[0]\n"
     ]
    },
    {
     "name": "stdout",
     "output_type": "stream",
     "text": [
      "[EPOCH: 1/300 Iter: 5285/5285 ] Loss: 2.660 Best Acc: 0.000 LR: 5.00e-03 Time: 0.09 seconds [EPOCH: 1/300] TRAIN Acc/Loss: 0.435/2.038 VALIDATION Acc: 0.470 \n",
      "[PROGRESS] Model successfully updated\n",
      "[PROGRESS] Checkpoint saved\n",
      "[EPOCH: 2/300 Iter: 5285/5285 ] Loss: 2.155 Best Acc: 0.470 LR: 5.00e-03 Time: 0.08 seconds [EPOCH: 2/300] TRAIN Acc/Loss: 0.326/1.816 VALIDATION Acc: 0.491 \n",
      "[PROGRESS] Model successfully updated\n",
      "[PROGRESS] Checkpoint saved\n",
      "[EPOCH: 3/300 Iter: 5285/5285 ] Loss: 2.028 Best Acc: 0.491 LR: 5.00e-03 Time: 0.09 seconds [EPOCH: 3/300] TRAIN Acc/Loss: 0.341/1.749 VALIDATION Acc: 0.505 \n",
      "[PROGRESS] Model successfully updated\n",
      "[PROGRESS] Checkpoint saved\n",
      "[EPOCH: 4/300 Iter: 5285/5285 ] Loss: 1.818 Best Acc: 0.505 LR: 5.00e-03 Time: 0.08 seconds [EPOCH: 4/300] TRAIN Acc/Loss: 0.679/1.693 VALIDATION Acc: 0.500 \n",
      "[EPOCH: 5/300 Iter: 5285/5285 ] Loss: 1.436 Best Acc: 0.505 LR: 5.00e-03 Time: 0.09 seconds [EPOCH: 5/300] TRAIN Acc/Loss: 0.574/1.642 VALIDATION Acc: 0.503 \n",
      "[EPOCH: 6/300 Iter: 5285/5285 ] Loss: 1.824 Best Acc: 0.505 LR: 5.00e-03 Time: 0.09 seconds [EPOCH: 6/300] TRAIN Acc/Loss: 0.776/1.604 VALIDATION Acc: 0.508 \n",
      "[PROGRESS] Model successfully updated\n",
      "[PROGRESS] Checkpoint saved\n",
      "[EPOCH: 7/300 Iter: 5285/5285 ] Loss: 2.038 Best Acc: 0.508 LR: 5.00e-03 Time: 0.09 seconds [EPOCH: 7/300] TRAIN Acc/Loss: 0.421/1.571 VALIDATION Acc: 0.533 \n",
      "[PROGRESS] Model successfully updated\n",
      "[PROGRESS] Checkpoint saved\n",
      "[EPOCH: 8/300 Iter: 5285/5285 ] Loss: 1.927 Best Acc: 0.533 LR: 5.00e-03 Time: 0.09 seconds [EPOCH: 8/300] TRAIN Acc/Loss: 0.826/1.549 VALIDATION Acc: 0.512 \n",
      "[EPOCH: 9/300 Iter: 5285/5285 ] Loss: 1.994 Best Acc: 0.533 LR: 5.00e-03 Time: 0.09 seconds [EPOCH: 9/300] TRAIN Acc/Loss: 0.650/1.529 VALIDATION Acc: 0.540 \n",
      "[PROGRESS] Model successfully updated\n",
      "[PROGRESS] Checkpoint saved\n",
      "[EPOCH: 10/300 Iter: 5285/5285 ] Loss: 2.225 Best Acc: 0.540 LR: 5.00e-03 Time: 0.09 seconds [EPOCH: 10/300] TRAIN Acc/Loss: 0.801/1.522 VALIDATION Acc: 0.510 \n",
      "[EPOCH: 11/300 Iter: 5285/5285 ] Loss: 1.893 Best Acc: 0.540 LR: 5.00e-03 Time: 0.08 seconds [EPOCH: 11/300] TRAIN Acc/Loss: 0.613/1.498 VALIDATION Acc: 0.510 \n",
      "[EPOCH: 12/300 Iter: 5285/5285 ] Loss: 2.030 Best Acc: 0.540 LR: 5.00e-03 Time: 0.09 seconds [EPOCH: 12/300] TRAIN Acc/Loss: 0.502/1.489 VALIDATION Acc: 0.526 \n",
      "[EPOCH: 13/300 Iter: 5285/5285 ] Loss: 1.557 Best Acc: 0.540 LR: 5.00e-03 Time: 0.09 seconds [EPOCH: 13/300] TRAIN Acc/Loss: 0.461/1.479 VALIDATION Acc: 0.502 \n",
      "[EPOCH: 14/300 Iter: 5285/5285 ] Loss: 1.970 Best Acc: 0.540 LR: 5.00e-03 Time: 0.10 seconds [EPOCH: 14/300] TRAIN Acc/Loss: 0.300/1.460 VALIDATION Acc: 0.514 \n",
      "[EPOCH: 15/300 Iter: 5285/5285 ] Loss: 1.717 Best Acc: 0.540 LR: 5.00e-03 Time: 0.09 seconds [EPOCH: 15/300] TRAIN Acc/Loss: 0.616/1.448 VALIDATION Acc: 0.539 \n",
      "[EPOCH: 16/300 Iter: 5285/5285 ] Loss: 2.029 Best Acc: 0.540 LR: 5.00e-03 Time: 0.09 seconds [EPOCH: 16/300] TRAIN Acc/Loss: 0.335/1.445 VALIDATION Acc: 0.509 \n",
      "[EPOCH: 17/300 Iter: 5285/5285 ] Loss: 1.923 Best Acc: 0.540 LR: 5.00e-03 Time: 0.09 seconds [EPOCH: 17/300] TRAIN Acc/Loss: 0.483/1.442 VALIDATION Acc: 0.506 \n",
      "[EPOCH: 18/300 Iter: 5285/5285 ] Loss: 1.539 Best Acc: 0.540 LR: 5.00e-03 Time: 0.09 seconds [EPOCH: 18/300] TRAIN Acc/Loss: 0.856/1.420 VALIDATION Acc: 0.485 \n",
      "[EPOCH: 19/300 Iter: 5285/5285 ] Loss: 1.845 Best Acc: 0.540 LR: 5.00e-03 Time: 0.08 seconds [EPOCH: 19/300] TRAIN Acc/Loss: 0.419/1.411 VALIDATION Acc: 0.486 \n",
      "[EPOCH: 20/300 Iter: 5285/5285 ] Loss: 2.357 Best Acc: 0.540 LR: 5.00e-03 Time: 0.09 seconds [EPOCH: 20/300] TRAIN Acc/Loss: 0.203/1.425 VALIDATION Acc: 0.415 \n",
      "[EPOCH: 21/300 Iter: 5285/5285 ] Loss: 1.897 Best Acc: 0.540 LR: 5.00e-03 Time: 0.08 seconds [EPOCH: 21/300] TRAIN Acc/Loss: 0.627/1.416 VALIDATION Acc: 0.530 \n",
      "[EPOCH: 22/300 Iter: 5285/5285 ] Loss: 1.691 Best Acc: 0.540 LR: 5.00e-03 Time: 0.08 seconds [EPOCH: 22/300] TRAIN Acc/Loss: 0.805/1.403 VALIDATION Acc: 0.513 \n",
      "[EPOCH: 23/300 Iter: 5285/5285 ] Loss: 2.034 Best Acc: 0.540 LR: 5.00e-03 Time: 0.08 seconds [EPOCH: 23/300] TRAIN Acc/Loss: 0.444/1.393 VALIDATION Acc: 0.542 \n",
      "[PROGRESS] Model successfully updated\n",
      "[PROGRESS] Checkpoint saved\n",
      "[EPOCH: 24/300 Iter: 5285/5285 ] Loss: 1.641 Best Acc: 0.542 LR: 5.00e-03 Time: 0.08 seconds [EPOCH: 24/300] TRAIN Acc/Loss: 0.470/1.389 VALIDATION Acc: 0.511 \n",
      "[EPOCH: 25/300 Iter: 5285/5285 ] Loss: 1.896 Best Acc: 0.542 LR: 5.00e-03 Time: 0.09 seconds [EPOCH: 25/300] TRAIN Acc/Loss: 0.509/1.390 VALIDATION Acc: 0.483 \n",
      "[EPOCH: 26/300 Iter: 5285/5285 ] Loss: 1.951 Best Acc: 0.542 LR: 5.00e-03 Time: 0.09 seconds [EPOCH: 26/300] TRAIN Acc/Loss: 0.596/1.374 VALIDATION Acc: 0.468 \n",
      "[EPOCH: 27/300 Iter: 5285/5285 ] Loss: 1.559 Best Acc: 0.542 LR: 5.00e-03 Time: 0.09 seconds [EPOCH: 27/300] TRAIN Acc/Loss: 0.619/1.376 VALIDATION Acc: 0.511 \n",
      "[EPOCH: 28/300 Iter: 5285/5285 ] Loss: 1.641 Best Acc: 0.542 LR: 5.00e-03 Time: 0.09 seconds [EPOCH: 28/300] TRAIN Acc/Loss: 0.677/1.378 VALIDATION Acc: 0.495 \n",
      "[EPOCH: 29/300 Iter: 5285/5285 ] Loss: 1.541 Best Acc: 0.542 LR: 5.00e-03 Time: 0.09 seconds [EPOCH: 29/300] TRAIN Acc/Loss: 0.595/1.388 VALIDATION Acc: 0.518 \n",
      "[EPOCH: 30/300 Iter: 5285/5285 ] Loss: 1.522 Best Acc: 0.542 LR: 5.00e-03 Time: 0.09 seconds [EPOCH: 30/300] TRAIN Acc/Loss: 0.768/1.365 VALIDATION Acc: 0.478 \n",
      "[EPOCH: 31/300 Iter: 5285/5285 ] Loss: 1.657 Best Acc: 0.542 LR: 5.00e-03 Time: 0.08 seconds [EPOCH: 31/300] TRAIN Acc/Loss: 0.738/1.359 VALIDATION Acc: 0.466 \n",
      "[EPOCH: 32/300 Iter: 5285/5285 ] Loss: 2.128 Best Acc: 0.542 LR: 5.00e-03 Time: 0.08 seconds [EPOCH: 32/300] TRAIN Acc/Loss: 0.469/1.353 VALIDATION Acc: 0.512 \n",
      "[EPOCH: 33/300 Iter: 5285/5285 ] Loss: 1.761 Best Acc: 0.542 LR: 5.00e-03 Time: 0.09 seconds [EPOCH: 33/300] TRAIN Acc/Loss: 0.485/1.348 VALIDATION Acc: 0.542 \n",
      "[EPOCH: 34/300 Iter: 5285/5285 ] Loss: 1.467 Best Acc: 0.542 LR: 5.00e-03 Time: 0.09 seconds [EPOCH: 34/300] TRAIN Acc/Loss: 0.578/1.348 VALIDATION Acc: 0.557 \n",
      "[PROGRESS] Model successfully updated\n",
      "[PROGRESS] Checkpoint saved\n",
      "[EPOCH: 35/300 Iter: 5285/5285 ] Loss: 1.950 Best Acc: 0.557 LR: 5.00e-03 Time: 0.09 seconds [EPOCH: 35/300] TRAIN Acc/Loss: 0.467/1.353 VALIDATION Acc: 0.546 \n",
      "[EPOCH: 36/300 Iter: 5285/5285 ] Loss: 1.856 Best Acc: 0.557 LR: 5.00e-03 Time: 0.09 seconds [EPOCH: 36/300] TRAIN Acc/Loss: 0.718/1.338 VALIDATION Acc: 0.549 \n",
      "[EPOCH: 37/300 Iter: 5285/5285 ] Loss: 2.203 Best Acc: 0.557 LR: 5.00e-03 Time: 0.09 seconds [EPOCH: 37/300] TRAIN Acc/Loss: 0.367/1.407 VALIDATION Acc: 0.508 \n",
      "[EPOCH: 38/300 Iter: 5285/5285 ] Loss: 1.467 Best Acc: 0.557 LR: 5.00e-03 Time: 0.09 seconds [EPOCH: 38/300] TRAIN Acc/Loss: 0.361/1.428 VALIDATION Acc: 0.538 \n",
      "[EPOCH: 39/300 Iter: 5285/5285 ] Loss: 1.704 Best Acc: 0.557 LR: 5.00e-03 Time: 0.09 seconds [EPOCH: 39/300] TRAIN Acc/Loss: 0.866/1.374 VALIDATION Acc: 0.529 \n",
      "[EPOCH: 40/300 Iter: 5285/5285 ] Loss: 1.882 Best Acc: 0.557 LR: 5.00e-03 Time: 0.09 seconds [EPOCH: 40/300] TRAIN Acc/Loss: 0.532/1.358 VALIDATION Acc: 0.549 \n",
      "[EPOCH: 41/300 Iter: 5285/5285 ] Loss: 1.547 Best Acc: 0.557 LR: 4.50e-03 Time: 0.08 seconds [EPOCH: 41/300] TRAIN Acc/Loss: 0.612/1.325 VALIDATION Acc: 0.554 \n",
      "[EPOCH: 42/300 Iter: 5285/5285 ] Loss: 1.677 Best Acc: 0.557 LR: 4.50e-03 Time: 0.09 seconds [EPOCH: 42/300] TRAIN Acc/Loss: 0.664/1.318 VALIDATION Acc: 0.532 \n",
      "[EPOCH: 43/300 Iter: 5285/5285 ] Loss: 1.443 Best Acc: 0.557 LR: 4.50e-03 Time: 0.08 seconds [EPOCH: 43/300] TRAIN Acc/Loss: 0.816/1.309 VALIDATION Acc: 0.544 \n",
      "[EPOCH: 44/300 Iter: 5285/5285 ] Loss: 1.710 Best Acc: 0.557 LR: 4.50e-03 Time: 0.08 seconds [EPOCH: 44/300] TRAIN Acc/Loss: 0.732/1.324 VALIDATION Acc: 0.512 \n",
      "[EPOCH: 45/300 Iter: 5285/5285 ] Loss: 1.501 Best Acc: 0.557 LR: 4.50e-03 Time: 0.09 seconds [EPOCH: 45/300] TRAIN Acc/Loss: 0.663/1.321 VALIDATION Acc: 0.547 \n",
      "[EPOCH: 46/300 Iter: 5285/5285 ] Loss: 1.631 Best Acc: 0.557 LR: 4.50e-03 Time: 0.09 seconds [EPOCH: 46/300] TRAIN Acc/Loss: 0.510/1.303 VALIDATION Acc: 0.549 \n",
      "[EPOCH: 47/300 Iter: 5285/5285 ] Loss: 1.445 Best Acc: 0.557 LR: 4.50e-03 Time: 0.09 seconds [EPOCH: 47/300] TRAIN Acc/Loss: 0.792/1.309 VALIDATION Acc: 0.549 \n",
      "[EPOCH: 48/300 Iter: 5285/5285 ] Loss: 1.922 Best Acc: 0.557 LR: 4.50e-03 Time: 0.09 seconds [EPOCH: 48/300] TRAIN Acc/Loss: 0.512/1.298 VALIDATION Acc: 0.540 \n",
      "[EPOCH: 49/300 Iter: 5285/5285 ] Loss: 1.411 Best Acc: 0.557 LR: 4.50e-03 Time: 0.09 seconds [EPOCH: 49/300] TRAIN Acc/Loss: 0.748/1.295 VALIDATION Acc: 0.541 \n",
      "[EPOCH: 50/300 Iter: 5285/5285 ] Loss: 1.536 Best Acc: 0.557 LR: 4.50e-03 Time: 0.08 seconds [EPOCH: 50/300] TRAIN Acc/Loss: 0.681/1.297 VALIDATION Acc: 0.457 \n",
      "[EPOCH: 51/300 Iter: 5285/5285 ] Loss: 1.538 Best Acc: 0.557 LR: 4.50e-03 Time: 0.09 seconds [EPOCH: 51/300] TRAIN Acc/Loss: 0.728/1.305 VALIDATION Acc: 0.551 \n",
      "[EPOCH: 52/300 Iter: 5285/5285 ] Loss: 1.276 Best Acc: 0.557 LR: 4.50e-03 Time: 0.09 seconds [EPOCH: 52/300] TRAIN Acc/Loss: 0.794/1.286 VALIDATION Acc: 0.537 \n",
      "[EPOCH: 53/300 Iter: 5285/5285 ] Loss: 1.608 Best Acc: 0.557 LR: 4.50e-03 Time: 0.08 seconds [EPOCH: 53/300] TRAIN Acc/Loss: 0.749/1.300 VALIDATION Acc: 0.496 \n",
      "[EPOCH: 54/300 Iter: 5285/5285 ] Loss: 1.278 Best Acc: 0.557 LR: 4.50e-03 Time: 0.09 seconds [EPOCH: 54/300] TRAIN Acc/Loss: 0.629/1.283 VALIDATION Acc: 0.520 \n",
      "[EPOCH: 55/300 Iter: 5285/5285 ] Loss: 1.848 Best Acc: 0.557 LR: 4.50e-03 Time: 0.08 seconds [EPOCH: 55/300] TRAIN Acc/Loss: 0.756/1.292 VALIDATION Acc: 0.550 \n",
      "[EPOCH: 56/300 Iter: 5285/5285 ] Loss: 1.230 Best Acc: 0.557 LR: 4.50e-03 Time: 0.09 seconds [EPOCH: 56/300] TRAIN Acc/Loss: 0.664/1.276 VALIDATION Acc: 0.563 \n",
      "[PROGRESS] Model successfully updated\n",
      "[PROGRESS] Checkpoint saved\n",
      "[EPOCH: 57/300 Iter: 5285/5285 ] Loss: 1.304 Best Acc: 0.563 LR: 4.50e-03 Time: 0.09 seconds"
     ]
    }
   ],
   "source": [
    "print (\"[PROGRESS] %s dataset retrieved\"  %(dset_type))\n",
    "\n",
    "model = FuseNet(gpu_device, num_classes).cuda()\n",
    "\n",
    "solver = Solver_SS(gpu_device, optim_args={\"lr\":5e-3, \"weight_decay\": 0.0005}, loss_func=CrossEntropy2d)\n",
    "solver.train(model, dset_type, train_loader, val_loader, resume, log_nth=5, num_epochs=300)"
   ]
  },
  {
   "cell_type": "code",
   "execution_count": null,
   "metadata": {},
   "outputs": [],
   "source": []
  },
  {
   "cell_type": "code",
   "execution_count": null,
   "metadata": {},
   "outputs": [],
   "source": []
  }
 ],
 "metadata": {
  "kernelspec": {
   "display_name": "Python [conda env:fusenet]",
   "language": "python",
   "name": "conda-env-fusenet-py"
  },
  "language_info": {
   "codemirror_mode": {
    "name": "ipython",
    "version": 2
   },
   "file_extension": ".py",
   "mimetype": "text/x-python",
   "name": "python",
   "nbconvert_exporter": "python",
   "pygments_lexer": "ipython2",
   "version": "2.7.15"
  }
 },
 "nbformat": 4,
 "nbformat_minor": 2
}
