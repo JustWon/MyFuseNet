{
 "cells": [
  {
   "cell_type": "markdown",
   "metadata": {},
   "source": [
    "# Training on my dataloader from raw images"
   ]
  },
  {
   "cell_type": "code",
   "execution_count": 1,
   "metadata": {},
   "outputs": [
    {
     "name": "stdout",
     "output_type": "stream",
     "text": [
      "[PROGRESS] Chosen GPU Device: 1\n"
     ]
    }
   ],
   "source": [
    "import sys\n",
    "sys.path.insert(0, '../')\n",
    "\n",
    "import numpy as np\n",
    "import torch\n",
    "from torch.autograd import Variable\n",
    "from FuseNet import FuseNet, CrossEntropy2d\n",
    "from Solver_FuseNet import Solver_SS\n",
    "import torch.nn.functional as F\n",
    "from utils.data_utils_class import get_data\n",
    "\n",
    "import time\n",
    "\n",
    "import h5py\n",
    "import scipy.io \n",
    "import os\n",
    "\n",
    "from dataloaders.NYUDv2Loader import *\n",
    "\n",
    "%load_ext autoreload\n",
    "%autoreload 2"
   ]
  },
  {
   "cell_type": "code",
   "execution_count": 2,
   "metadata": {},
   "outputs": [],
   "source": [
    "############################################################################\n",
    "#                                TRAIN                                     #\n",
    "############################################################################\n",
    "\n",
    "resume = False\n",
    "dset_type = 'NYU'\n",
    "t_loader = NYUDv2Loader('/home/dongwonshin/Desktop/Datasets/NYUDv2/', split='training', \n",
    "                        is_transform=True, img_norm=True, img_size=(240,320))\n",
    "v_loader = NYUDv2Loader('/home/dongwonshin/Desktop/Datasets/NYUDv2/', split='val', \n",
    "                        is_transform=True, img_norm=True, img_size=(240,320))\n",
    "\n",
    "train_loader = data.DataLoader(t_loader, batch_size=4, num_workers=16, shuffle=True)\n",
    "val_loader = data.DataLoader(v_loader, batch_size=4, num_workers=16)"
   ]
  },
  {
   "cell_type": "code",
   "execution_count": 3,
   "metadata": {},
   "outputs": [
    {
     "name": "stdout",
     "output_type": "stream",
     "text": [
      "[PROGRESS] NYU dataset retrieved\n"
     ]
    }
   ],
   "source": [
    "print (\"[PROGRESS] %s dataset retrieved\"  %(dset_type))\n",
    "\n",
    "model = FuseNet(14).cuda()"
   ]
  },
  {
   "cell_type": "markdown",
   "metadata": {},
   "source": [
    "# first training"
   ]
  },
  {
   "cell_type": "code",
   "execution_count": 3,
   "metadata": {},
   "outputs": [
    {
     "name": "stdout",
     "output_type": "stream",
     "text": [
      "[PROGRESS] NYU dataset retrieved\n",
      "164\n",
      "[PROGRESS] Selected Training Mode: NEW\n",
      "[PROGRESS] TRAINING STARTS\n"
     ]
    },
    {
     "name": "stderr",
     "output_type": "stream",
     "text": [
      "../Solver_FuseNet.py:148: UserWarning: invalid index of a 0-dim tensor. This will be an error in PyTorch 0.5. Use tensor.item() to convert a 0-dim tensor to a Python number\n",
      "  self.running_loss += loss.data[0]\n",
      "../Solver_FuseNet.py:149: UserWarning: invalid index of a 0-dim tensor. This will be an error in PyTorch 0.5. Use tensor.item() to convert a 0-dim tensor to a Python number\n",
      "  running_loss += loss.data[0]\n"
     ]
    },
    {
     "name": "stdout",
     "output_type": "stream",
     "text": [
      "[EPOCH: 1/10 Iter: 199/199 ] Loss: 2.021 Best Acc: 0.000 LR: 5.00e-03 Time: 0.20 seconds [EPOCH: 1/10] TRAIN Acc/Loss: 0.452/2.092 VALIDATION Acc: 0.285 \n",
      "[PROGRESS] Model successfully updated\n",
      "[PROGRESS] Checkpoint saved\n",
      "[EPOCH: 2/10 Iter: 199/199 ] Loss: 1.759 Best Acc: 0.285 LR: 5.00e-03 Time: 0.20 seconds [EPOCH: 2/10] TRAIN Acc/Loss: 0.370/1.751 VALIDATION Acc: 0.401 \n",
      "[PROGRESS] Model successfully updated\n",
      "[PROGRESS] Checkpoint saved\n",
      "[EPOCH: 3/10 Iter: 199/199 ] Loss: 1.626 Best Acc: 0.401 LR: 5.00e-03 Time: 0.19 seconds [EPOCH: 3/10] TRAIN Acc/Loss: 0.405/1.596 VALIDATION Acc: 0.391 \n",
      "[EPOCH: 4/10 Iter: 199/199 ] Loss: 1.532 Best Acc: 0.401 LR: 5.00e-03 Time: 0.20 seconds [EPOCH: 4/10] TRAIN Acc/Loss: 0.610/1.528 VALIDATION Acc: 0.443 \n",
      "[PROGRESS] Model successfully updated\n",
      "[PROGRESS] Checkpoint saved\n",
      "[EPOCH: 5/10 Iter: 199/199 ] Loss: 1.510 Best Acc: 0.443 LR: 5.00e-03 Time: 0.20 seconds [EPOCH: 5/10] TRAIN Acc/Loss: 0.501/1.476 VALIDATION Acc: 0.438 \n",
      "[EPOCH: 6/10 Iter: 199/199 ] Loss: 1.490 Best Acc: 0.443 LR: 5.00e-03 Time: 0.20 seconds [EPOCH: 6/10] TRAIN Acc/Loss: 0.565/1.441 VALIDATION Acc: 0.450 \n",
      "[PROGRESS] Model successfully updated\n",
      "[PROGRESS] Checkpoint saved\n",
      "[EPOCH: 7/10 Iter: 199/199 ] Loss: 1.470 Best Acc: 0.450 LR: 5.00e-03 Time: 0.20 seconds [EPOCH: 7/10] TRAIN Acc/Loss: 0.459/1.384 VALIDATION Acc: 0.483 \n",
      "[PROGRESS] Model successfully updated\n",
      "[PROGRESS] Checkpoint saved\n",
      "[EPOCH: 8/10 Iter: 199/199 ] Loss: 1.327 Best Acc: 0.483 LR: 5.00e-03 Time: 0.20 seconds [EPOCH: 8/10] TRAIN Acc/Loss: 0.447/1.379 VALIDATION Acc: 0.345 \n",
      "[EPOCH: 9/10 Iter: 199/199 ] Loss: 1.419 Best Acc: 0.483 LR: 5.00e-03 Time: 0.20 seconds [EPOCH: 9/10] TRAIN Acc/Loss: 0.500/1.333 VALIDATION Acc: 0.477 \n",
      "[EPOCH: 10/10 Iter: 199/199 ] Loss: 1.267 Best Acc: 0.483 LR: 5.00e-03 Time: 0.20 seconds [EPOCH: 10/10] TRAIN Acc/Loss: 0.537/1.314 VALIDATION Acc: 0.481 \n",
      "14\n",
      "(2048477.0, 3068.0)\n",
      "(330180.0, 0.0)\n",
      "(645770.0, 134942.0)\n",
      "(1640338.0, 31482.0)\n",
      "(4915685.0, 1946824.0)\n",
      "(6972920.0, 7655806.0)\n",
      "(6070799.0, 7207302.0)\n",
      "(1104096.0, 679074.0)\n",
      "(1542769.0, 0.0)\n",
      "(1778309.0, 12.0)\n",
      "(212285.0, 0.0)\n",
      "(11829309.0, 11379861.0)\n",
      "(2546211.0, 1101294.0)\n",
      "(0.0, 0.0)\n",
      "[FINAL] TRAINING COMPLETED\n",
      "        Best VALIDATION Accuracy: 0.483 IoU: nan Mean Accuracy: nan\n",
      "        Orgnal. FuseNet Accuracy: 0.66  IoU: 0.327 Mean Accuracy: 0.434\n"
     ]
    },
    {
     "name": "stderr",
     "output_type": "stream",
     "text": [
      "../Solver_FuseNet.py:243: RuntimeWarning: invalid value encountered in double_scalars\n",
      "  IoU += TP / (TP + FP + FN)\n",
      "../Solver_FuseNet.py:244: RuntimeWarning: invalid value encountered in double_scalars\n",
      "  mean_acc += TP / (TP + FP)\n"
     ]
    }
   ],
   "source": [
    "solver = Solver_SS(optim_args={\"lr\":5e-3, \"weight_decay\": 0.0005}, loss_func=CrossEntropy2d)\n",
    "solver.train(model, dset_type, train_loader, val_loader, resume=True, num_epochs=200, log_nth=5)"
   ]
  },
  {
   "cell_type": "markdown",
   "metadata": {},
   "source": [
    "# second training (continued, more 200 epochs)"
   ]
  },
  {
   "cell_type": "code",
   "execution_count": null,
   "metadata": {},
   "outputs": [
    {
     "name": "stdout",
     "output_type": "stream",
     "text": [
      "164\n",
      "[PROGRESS] Selected Training Mode: RESUME\n",
      "[ERROR] No checkpoint found at '/remwork/atcremers72/soenmeza/FuseNet/models/nyu/checkpoint12.pth.tar'\n"
     ]
    },
    {
     "name": "stderr",
     "output_type": "stream",
     "text": [
      "../Solver_FuseNet.py:148: UserWarning: invalid index of a 0-dim tensor. This will be an error in PyTorch 0.5. Use tensor.item() to convert a 0-dim tensor to a Python number\n",
      "  self.running_loss += loss.data[0]\n",
      "../Solver_FuseNet.py:149: UserWarning: invalid index of a 0-dim tensor. This will be an error in PyTorch 0.5. Use tensor.item() to convert a 0-dim tensor to a Python number\n",
      "  running_loss += loss.data[0]\n"
     ]
    },
    {
     "name": "stdout",
     "output_type": "stream",
     "text": [
      "[EPOCH: 1/200 Iter: 199/199 ] Loss: 1.523 Best Acc: 0.000 LR: 5.00e-03 Time: 0.20 seconds [EPOCH: 1/200] TRAIN Acc/Loss: 0.508/1.357 VALIDATION Acc: 0.515 \n",
      "[PROGRESS] Model successfully updated\n",
      "[PROGRESS] Checkpoint saved\n",
      "[EPOCH: 2/200 Iter: 199/199 ] Loss: 1.341 Best Acc: 0.515 LR: 5.00e-03 Time: 0.20 seconds [EPOCH: 2/200] TRAIN Acc/Loss: 0.592/1.338 VALIDATION Acc: 0.468 \n",
      "[EPOCH: 3/200 Iter: 199/199 ] Loss: 1.440 Best Acc: 0.515 LR: 5.00e-03 Time: 0.20 seconds [EPOCH: 3/200] TRAIN Acc/Loss: 0.458/1.318 VALIDATION Acc: 0.472 \n",
      "[EPOCH: 4/200 Iter: 199/199 ] Loss: 1.275 Best Acc: 0.515 LR: 5.00e-03 Time: 0.20 seconds [EPOCH: 4/200] TRAIN Acc/Loss: 0.535/1.290 VALIDATION Acc: 0.458 \n",
      "[EPOCH: 5/200 Iter: 199/199 ] Loss: 1.334 Best Acc: 0.515 LR: 5.00e-03 Time: 0.20 seconds [EPOCH: 5/200] TRAIN Acc/Loss: 0.459/1.271 VALIDATION Acc: 0.490 \n",
      "[EPOCH: 6/200 Iter: 199/199 ] Loss: 1.268 Best Acc: 0.515 LR: 5.00e-03 Time: 0.20 seconds [EPOCH: 6/200] TRAIN Acc/Loss: 0.527/1.251 VALIDATION Acc: 0.518 \n",
      "[PROGRESS] Model successfully updated\n",
      "[PROGRESS] Checkpoint saved\n",
      "[EPOCH: 7/200 Iter: 195/199 ] Loss: 1.390 Best Acc: 0.518 LR: 5.00e-03 Time: 0.23 seconds"
     ]
    }
   ],
   "source": [
    "solver = Solver_SS(optim_args={\"lr\":5e-3, \"weight_decay\": 0.0005}, loss_func=CrossEntropy2d)\n",
    "solver.train(model, dset_type, train_loader, val_loader, resume=True, num_epochs=200, log_nth=5)"
   ]
  },
  {
   "cell_type": "code",
   "execution_count": null,
   "metadata": {},
   "outputs": [],
   "source": []
  }
 ],
 "metadata": {
  "kernelspec": {
   "display_name": "Python [conda env:fusenet]",
   "language": "python",
   "name": "conda-env-fusenet-py"
  },
  "language_info": {
   "codemirror_mode": {
    "name": "ipython",
    "version": 2
   },
   "file_extension": ".py",
   "mimetype": "text/x-python",
   "name": "python",
   "nbconvert_exporter": "python",
   "pygments_lexer": "ipython2",
   "version": "2.7.15"
  }
 },
 "nbformat": 4,
 "nbformat_minor": 2
}
